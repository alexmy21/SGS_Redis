{
 "cells": [
  {
   "cell_type": "code",
   "execution_count": 1,
   "metadata": {},
   "outputs": [],
   "source": [
    "import hashlib\n",
    "\n",
    "def compute_sha256(input_data):\n",
    "    \"\"\"Compute SHA-256 hash of the input data.\"\"\"\n",
    "    sha256 = hashlib.sha256()\n",
    "    sha256.update(input_data.encode('utf-8'))\n",
    "    return sha256.digest()  # Returns the hash as a bytes object\n",
    "\n",
    "def sha_to_binary(sha_hash):\n",
    "    \"\"\"Convert SHA hash to a binary string.\"\"\"\n",
    "    return ''.join(f'{byte:08b}' for byte in sha_hash)\n",
    "\n",
    "def bitwise_or(sha1_bin, sha2_bin):\n",
    "    \"\"\"Perform bitwise OR operation on two binary strings.\"\"\"\n",
    "    return ''.join('1' if a == '1' or b == '1' else '0' for a, b in zip(sha1_bin, sha2_bin))\n",
    "\n",
    "def bitwise_and(sha1_bin, sha2_bin):\n",
    "    \"\"\"Perform bitwise AND operation on two binary strings.\"\"\"\n",
    "    return ''.join('1' if a == '1' and b == '1' else '0' for a, b in zip(sha1_bin, sha2_bin))\n",
    "\n",
    "def union(sha1, sha2):\n",
    "    \"\"\"Compute the union of two SHA hashes.\"\"\"\n",
    "    sha1_bin = sha_to_binary(sha1)\n",
    "    sha2_bin = sha_to_binary(sha2)\n",
    "    result_bin = bitwise_or(sha1_bin, sha2_bin)\n",
    "    return binary_to_sha(result_bin)\n",
    "\n",
    "def intersection(sha1, sha2):\n",
    "    \"\"\"Compute the intersection of two SHA hashes.\"\"\"\n",
    "    sha1_bin = sha_to_binary(sha1)\n",
    "    sha2_bin = sha_to_binary(sha2)\n",
    "    result_bin = bitwise_and(sha1_bin, sha2_bin)\n",
    "    return binary_to_sha(result_bin)\n",
    "\n",
    "def binary_to_sha(binary_str):\n",
    "    \"\"\"Convert a binary string back to a SHA hash (bytes object).\"\"\"\n",
    "    bytes_list = [int(binary_str[i:i+8], 2) for i in range(0, len(binary_str), 8)]\n",
    "    return bytes(bytes_list)"
   ]
  },
  {
   "cell_type": "code",
   "execution_count": 2,
   "metadata": {},
   "outputs": [
    {
     "name": "stdout",
     "output_type": "stream",
     "text": [
      "SHA(1): b'[A6+\\xc8+\\x7f=V\\xed\\xc5\\xa3\\x06\\xdb\"\\x10W\\x07\\xd0\\x1f\\xf4\\x81\\x9e&\\xfa\\xef\\x97$\\xa2\\xd4\\x06\\xc9'\n",
      "SHA(2): b'\\xd9\\x8c\\xf5>\\x0c\\x8bw\\xc1J\\x965\\x8d[iXB%\\xb4\\xbb\\x90&B<\\xbc/{\\x01a\\x89L@,'\n",
      "Union: b'\\xdb\\xcd\\xf7?\\xcc\\xab\\x7f\\xfd^\\xff\\xf5\\xaf_\\xfbzRw\\xb7\\xfb\\x9f\\xf6\\xc3\\xbe\\xbe\\xff\\xff\\x97e\\xab\\xdcF\\xed'\n",
      "Intersection: b'[A6+\\xc8+\\x7f=V\\xed\\xc5\\xa3\\x06\\xdb\"\\x10W\\x07\\xd0\\x1f\\xf4\\x81\\x9e&\\xfa\\xef\\x97$\\xa2\\xd4\\x06\\xc9'\n",
      "Test passed!\n"
     ]
    }
   ],
   "source": [
    "# Test data\n",
    "input1 = \"data1\"\n",
    "input2 = \"data2\"\n",
    "\n",
    "# Compute SHA hashes\n",
    "sha1 = compute_sha256(input1)\n",
    "sha2 = compute_sha256(input2)\n",
    "\n",
    "print(f\"SHA(1): {sha1}\")\n",
    "print(f\"SHA(2): {sha2}\")\n",
    "\n",
    "# Perform the test: SHA(1) = intersection(union(SHA(1), SHA(2)), SHA(1))\n",
    "union_result = union(sha1, sha2)\n",
    "intersection_result = intersection(union_result, sha1)\n",
    "\n",
    "print(f\"Union: {union_result}\")\n",
    "print(f\"Intersection: {intersection_result}\")\n",
    "\n",
    "# Check if the result matches SHA(1)\n",
    "assert intersection_result == sha1, \"Test failed!\"\n",
    "print(\"Test passed!\")"
   ]
  }
 ],
 "metadata": {
  "kernelspec": {
   "display_name": ".venv",
   "language": "python",
   "name": "python3"
  },
  "language_info": {
   "codemirror_mode": {
    "name": "ipython",
    "version": 3
   },
   "file_extension": ".py",
   "mimetype": "text/x-python",
   "name": "python",
   "nbconvert_exporter": "python",
   "pygments_lexer": "ipython3",
   "version": "3.12.8"
  }
 },
 "nbformat": 4,
 "nbformat_minor": 2
}
